{
 "cells": [
  {
   "cell_type": "code",
   "execution_count": 4,
   "metadata": {},
   "outputs": [],
   "source": [
    "import itertools\n",
    "from datasets import load_dataset\n",
    "from transformers import pipeline"
   ]
  },
  {
   "cell_type": "code",
   "execution_count": 2,
   "metadata": {},
   "outputs": [],
   "source": [
    "streaming_dataset = load_dataset('common_language', split=\"train\", streaming=True)\n",
    "\n",
    "sample = list(itertools.islice(streaming_dataset, 10))"
   ]
  },
  {
   "cell_type": "code",
   "execution_count": 5,
   "metadata": {},
   "outputs": [
    {
     "data": {
      "text/plain": [
       "{'client_id': 'ara_trn_sp_12',\n",
       " 'path': 'zip://common_voice_kpd/Arabic/train/ara_trn_sp_12/common_voice_ar_20401372.wav::https://huggingface.co/datasets/common_language/resolve/16ea653dd7d6a92f8fd80839466b1c6be1df300a/data/CommonLanguage.zip',\n",
       " 'audio': {'path': 'zip://common_voice_kpd/Arabic/train/ara_trn_sp_12/common_voice_ar_20401372.wav::https://huggingface.co/datasets/common_language/resolve/16ea653dd7d6a92f8fd80839466b1c6be1df300a/data/CommonLanguage.zip',\n",
       "  'array': array([-7.27595761e-12, -6.54836185e-11, -4.36557457e-11, ...,\n",
       "          2.74835184e-05,  2.27012315e-05,  1.35751634e-05]),\n",
       "  'sampling_rate': 48000},\n",
       " 'sentence': 'عليك أن تفي بوعدك.',\n",
       " 'age': 'twenties',\n",
       " 'gender': 'male',\n",
       " 'language': 0}"
      ]
     },
     "execution_count": 5,
     "metadata": {},
     "output_type": "execute_result"
    }
   ],
   "source": [
    "sample[0]"
   ]
  },
  {
   "cell_type": "code",
   "execution_count": 6,
   "metadata": {},
   "outputs": [
    {
     "name": "stderr",
     "output_type": "stream",
     "text": [
      "Device set to use mps:0\n"
     ]
    }
   ],
   "source": [
    "classifier = pipeline(task=\"audio-classification\", model=\"facebook/mms-lid-126\")"
   ]
  },
  {
   "cell_type": "code",
   "execution_count": 7,
   "metadata": {},
   "outputs": [],
   "source": [
    "audio = sample[1][\"audio\"][\"array\"]\n",
    "sentence = sample[1][\"sentence\"]"
   ]
  },
  {
   "cell_type": "code",
   "execution_count": 8,
   "metadata": {},
   "outputs": [],
   "source": [
    "prediction = classifier(audio)"
   ]
  },
  {
   "cell_type": "code",
   "execution_count": 9,
   "metadata": {},
   "outputs": [
    {
     "name": "stdout",
     "output_type": "stream",
     "text": [
      "Predicted language is 'SUN' for the sentence 'يشبه أباه.'\n"
     ]
    }
   ],
   "source": [
    "print(\n",
    "    f\"Predicted language is '{prediction[0]['label'].upper()}' for the sentence '{sentence}'\"\n",
    ")"
   ]
  },
  {
   "cell_type": "code",
   "execution_count": null,
   "metadata": {},
   "outputs": [],
   "source": []
  }
 ],
 "metadata": {
  "kernelspec": {
   "display_name": ".venv",
   "language": "python",
   "name": "python3"
  },
  "language_info": {
   "codemirror_mode": {
    "name": "ipython",
    "version": 3
   },
   "file_extension": ".py",
   "mimetype": "text/x-python",
   "name": "python",
   "nbconvert_exporter": "python",
   "pygments_lexer": "ipython3",
   "version": "3.12.4"
  }
 },
 "nbformat": 4,
 "nbformat_minor": 2
}
