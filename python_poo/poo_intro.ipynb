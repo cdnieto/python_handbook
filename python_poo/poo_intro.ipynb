{
 "cells": [
  {
   "cell_type": "markdown",
   "metadata": {},
   "source": [
    "# Intro to object-oriented\n",
    "\n",
    "**Objeto:** Es una colección de **datos** y **conductas** asociadas a esos datos.\n",
    "\n",
    "**Orientado a objetos:** Funcionalidad dirigida hacia modelado de objetos.\n",
    "\n",
    "**Análisis orientado a objetos:** \n",
    "- Es el proceso de mirar un problema, tarea o trabajo que alguien quiere convertir en una aplicación e identificar los objetos y las interacciones entre esos objetos. \n",
    "- Esta etapa se trata del _qué_ necesita hacerse.\n",
    "- Output -> Lista de requerimientos.\n",
    "\n",
    "**Diseño orientado a objetos:** \n",
    "- Es el proceso en el que se convierten los requerimientos en una implementación específica. \n",
    "- Esta etapa va del _cómo_ hacer las cosas. \n",
    "- Output -> Especificación de implementación.\n",
    "\n",
    "**Programación orientada a objetos:**\n",
    "- Es el proceso de convertir los diseños en un programa funcional.\n",
    "\n",
    "**Abstracción:**\n",
    "- Significa tratar con el nivel de detalle adecuado para una tarea determinada.\n",
    "- También es el proceso de encapsular información con interfaces públicas y privadas separadas.\n",
    "\n",
    "Cuando se está diseñando objetos por lo general:\n",
    "- Objetos representan sustantivos.\n",
    "- Métodos representan verbos.\n",
    "- Atributos representan adjetivos o sustantivos.\n",
    "\n",
    "La mayoría de patrones de diseño se basan en dos principios orientados a objetos:\n",
    "- `composition` - Es el acto de juntar diferentes objetos para formar uno nuevo. Como un `Car` tiene `Engine`, `Transmission`, `Starter`, `Windshield`, etc. Una relación de composición es una relación de agregación, pero no visceversa. La agregación es independiente y más general entre los objetos, mientras que la composición es una relación donde los dos objetos son inequívocamente necesarios para existir. Estas relaciones son como una relación de _has a_.\n",
    "\n",
    "- `inheritance` - Los objetos en vez de heredar características y comportamientos, heredan atributos y métodos de otra clase. Esto es una relación de _is a_.\n",
    "\n",
    "**Polimorfismo:** Es la habilidad de tratar una clase de diferente manera, dependiendo en qué subclase es implementada."
   ]
  },
  {
   "cell_type": "markdown",
   "metadata": {},
   "source": [
    "## Ejercicio:\n",
    "\n",
    "Piensa en un proyecto de programación en el que has estado recientemente. Identifica los objetos más obvios dentro del proyecto. Piensa sobre los atributos y los tipos de atributos, eran primitivos u otras clases? Cuáles son los tipos de relaciones entre estos objetos?\n",
    "\n",
    "**Respuesta:**\n",
    "\n",
    "He estado trabajando en un proyecto de emparejamiento de productos. Un _producto_ se **empareja** con otro _producto_ con tener una descripción similar. En otras palabras se dice que dos descripciones son similares si tienen una _similaridad_ mayor que 0.8. La _similaridad_ se calcula aplicando la **similaridad coseno** a las representaciones vectoriales de las descripciones de los productos. Las representaciones vectoriales se obtienen a partir de un modelo de similitud semántica. Los modelos se entrenan con bases de datos etiquetadas.\n",
    "\n",
    "* Objetos: Producto, Modelo, Base de Datos.\n",
    "\n",
    "* Atributos: \n",
    "    - El producto puede ser un competidor, tener una descripción, una imagen, un url, un upc.\n",
    "    - El modelo tiene un nombre, una fecha de entrenamiento, precisión, recall, accuracy.\n",
    "    - Una base de datos tiene shape, etc."
   ]
  },
  {
   "cell_type": "markdown",
   "metadata": {},
   "source": [
    "## Ejercicio:\n",
    "\n",
    "Una aplicación donde los **negocios** _visibilizen_ sus **promociones**. Para que los **usuarios** vean esas promociones y vayan a los lugares a hacer una **visita** y/o una **compra**. En esta aplicación los **dueños de negocios** pueden _subir_ sus **negocios**. Los **usuarios** pueden _redimir_ **cupones**. Las **compras** y las **visitas** se pueden _validar_ por medio de **QR**'s. El **usuario** puede _visualizar_ los **negocios** y **promociones** en un **mapa interactivo**. El **usuario** puede _subir_ de **nivel** al _obtener_ **experiencia**. La **experiencia** se _obtiene_ con **visitas** o la **completación de retos** especiales. Puede haber retos especiales en general de la aplicación o puede haber retos especiales que los negocios suban."
   ]
  },
  {
   "cell_type": "markdown",
   "metadata": {},
   "source": []
  },
  {
   "cell_type": "code",
   "execution_count": null,
   "metadata": {},
   "outputs": [],
   "source": []
  }
 ],
 "metadata": {
  "language_info": {
   "name": "python"
  }
 },
 "nbformat": 4,
 "nbformat_minor": 2
}
