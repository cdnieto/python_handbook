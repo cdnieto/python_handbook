{
 "cells": [
  {
   "cell_type": "markdown",
   "metadata": {},
   "source": [
    "# Objetos `zip`\n",
    "\n",
    "Un objeto `zip` puede combinar varios objetos iterables en un objeto iterable."
   ]
  },
  {
   "cell_type": "code",
   "execution_count": 1,
   "metadata": {},
   "outputs": [
    {
     "data": {
      "text/plain": [
       "<zip at 0x1059fce80>"
      ]
     },
     "execution_count": 1,
     "metadata": {},
     "output_type": "execute_result"
    }
   ],
   "source": [
    "# Ejemplo:\n",
    "title = 'TMNT'\n",
    "villians = ['Shredder', 'Krang', 'Bebop', 'Rocksteady']\n",
    "turtles = {\n",
    "    'Raphael': 'Sai', 'Michelangelo': 'Nunchaku',\n",
    "    'Leonardo': 'Twin katana', 'Donatello': 'bo'\n",
    "}\n",
    "\n",
    "result = zip(title, villians, turtles)\n",
    "result"
   ]
  },
  {
   "cell_type": "code",
   "execution_count": 2,
   "metadata": {},
   "outputs": [
    {
     "name": "stdout",
     "output_type": "stream",
     "text": [
      "('T', 'Shredder', 'Raphael')\n",
      "('M', 'Krang', 'Michelangelo')\n",
      "('N', 'Bebop', 'Leonardo')\n",
      "('T', 'Rocksteady', 'Donatello')\n"
     ]
    }
   ],
   "source": [
    "for item in result:\n",
    "    print(item)"
   ]
  },
  {
   "cell_type": "markdown",
   "metadata": {},
   "source": [
    "Se puede pasar las tuplas a una lista usando el constructor `list` al objeto `zip`"
   ]
  },
  {
   "cell_type": "code",
   "execution_count": 4,
   "metadata": {},
   "outputs": [
    {
     "data": {
      "text/plain": [
       "[('T', 'Shredder', 'Raphael'),\n",
       " ('M', 'Krang', 'Michelangelo'),\n",
       " ('N', 'Bebop', 'Leonardo'),\n",
       " ('T', 'Rocksteady', 'Donatello')]"
      ]
     },
     "execution_count": 4,
     "metadata": {},
     "output_type": "execute_result"
    }
   ],
   "source": [
    "result = zip(title, villians, turtles)\n",
    "tuples = list(result)\n",
    "tuples"
   ]
  },
  {
   "cell_type": "markdown",
   "metadata": {},
   "source": [
    "Un objeto `zip` funciona como un iterador, eso quiere decir que podemos aplicar la función `next()` en él."
   ]
  },
  {
   "cell_type": "code",
   "execution_count": 5,
   "metadata": {},
   "outputs": [
    {
     "data": {
      "text/plain": [
       "('T', 'Shredder', 'Raphael')"
      ]
     },
     "execution_count": 5,
     "metadata": {},
     "output_type": "execute_result"
    }
   ],
   "source": [
    "result = zip(title, villians, turtles)\n",
    "next(result)"
   ]
  },
  {
   "cell_type": "code",
   "execution_count": 6,
   "metadata": {},
   "outputs": [
    {
     "data": {
      "text/plain": [
       "('M', 'Krang', 'Michelangelo')"
      ]
     },
     "execution_count": 6,
     "metadata": {},
     "output_type": "execute_result"
    }
   ],
   "source": [
    "next(result)"
   ]
  },
  {
   "cell_type": "markdown",
   "metadata": {},
   "source": [
    "> Nota: Solo se puede iterar 1 sola vez en el `zip` object. Es decir, solo se puede hacer 1 `for loop` en el `zip`. Lo mismo aplica cuando construyes una lista."
   ]
  },
  {
   "cell_type": "code",
   "execution_count": 7,
   "metadata": {},
   "outputs": [
    {
     "name": "stdout",
     "output_type": "stream",
     "text": [
      "('N', 'Bebop', 'Leonardo')\n",
      "('T', 'Rocksteady', 'Donatello')\n"
     ]
    }
   ],
   "source": [
    "for item in result:\n",
    "    print(item)"
   ]
  },
  {
   "cell_type": "code",
   "execution_count": 8,
   "metadata": {},
   "outputs": [],
   "source": [
    "for item in result:\n",
    "    print(item)"
   ]
  },
  {
   "cell_type": "markdown",
   "metadata": {},
   "source": [
    "¿Qué pasa cuando pasas iterables de diferentes tamaños a un `zip`?"
   ]
  },
  {
   "cell_type": "code",
   "execution_count": 9,
   "metadata": {},
   "outputs": [
    {
     "name": "stdout",
     "output_type": "stream",
     "text": [
      "('T', 'Shredder', 'Raphael')\n",
      "('e', 'Krang', 'Michelangelo')\n",
      "('e', 'Bebop', 'Leonardo')\n",
      "('n', 'Rocksteady', 'Donatello')\n"
     ]
    }
   ],
   "source": [
    "title = 'Teenage Mutant Ninja Turtles'\n",
    "villians = ['Shredder', 'Krang', 'Bebop', 'Rocksteady']\n",
    "turtles = {\n",
    "    'Raphael': 'Sai', 'Michelangelo': 'Nunchaku',\n",
    "    'Leonardo': 'Twin katana', 'Donatello': 'bo'\n",
    "}\n",
    "\n",
    "result = zip(title, villians, turtles)\n",
    "\n",
    "for item in result:\n",
    "    print(item)"
   ]
  },
  {
   "cell_type": "markdown",
   "metadata": {},
   "source": [
    "Podemos ver que el `zip` corresponde a la longitud del `item` **más corto**"
   ]
  },
  {
   "cell_type": "markdown",
   "metadata": {},
   "source": [
    "Los `zip` se pueden operar en **reversa**."
   ]
  },
  {
   "cell_type": "code",
   "execution_count": 11,
   "metadata": {},
   "outputs": [
    {
     "name": "stdout",
     "output_type": "stream",
     "text": [
      "[('Raphael', 'Michelangelo', 'Leonardo', 'Donatello'), ('red', 'orange', 'blue', 'purple')]\n"
     ]
    }
   ],
   "source": [
    "# Digamos que este está en 'rows'\n",
    "turtle_masks = [\n",
    "    ('Raphael', 'red'), ('Michelangelo', 'orange'),\n",
    "    ('Leonardo', 'blue'), ('Donatello', 'purple')\n",
    "]\n",
    "\n",
    "result = zip(*turtle_masks)\n",
    "\n",
    "# El resultado representa 2 tuplas: una con nombres y otra con colores\n",
    "print(list(result))"
   ]
  },
  {
   "cell_type": "markdown",
   "metadata": {},
   "source": [
    "De igual manera, operando los `zip` en reversa, si una tupla es de mayor longitud, el objeto `zip` toma en cuenta solo la longitud de la tupla más corta."
   ]
  },
  {
   "cell_type": "code",
   "execution_count": 12,
   "metadata": {},
   "outputs": [
    {
     "name": "stdout",
     "output_type": "stream",
     "text": [
      "[('Raphael', 'Michelangelo', 'Leonardo', 'Donatello'), ('red', 'orange', 'blue', 'purple')]\n"
     ]
    }
   ],
   "source": [
    "# Las últimas 2 tuplas tienen 3 elementos\n",
    "turtle_masks = [\n",
    "    ('Raphael', 'red'), ('Michelangelo', 'orange'),\n",
    "    ('Leonardo', 'blue', 'cyan'), ('Donatello', 'purple', 'magenta')\n",
    "]\n",
    "\n",
    "result = zip(*turtle_masks)\n",
    "\n",
    "# El resultado muestra solo 2 tuplas\n",
    "print(list(result))"
   ]
  },
  {
   "cell_type": "markdown",
   "metadata": {},
   "source": [
    "Un objeto `zip` puede ser usado para crear un `dict`, supongamos que tenemos las siguientes listas:"
   ]
  },
  {
   "cell_type": "code",
   "execution_count": 13,
   "metadata": {},
   "outputs": [
    {
     "name": "stdout",
     "output_type": "stream",
     "text": [
      "{'movie': ['Forest Gump', 'Goodfellas', 'Se7en'], 'year': [1994, 1990, 1995], 'director': ['R. Zemeckis', 'M. Scorsese', 'D. Fincher']}\n"
     ]
    }
   ],
   "source": [
    "keys = ['movie', 'year', 'director']\n",
    "\n",
    "values = [\n",
    "    ['Forest Gump', 'Goodfellas', 'Se7en'],\n",
    "    [1994, 1990, 1995],\n",
    "    ['R. Zemeckis', 'M. Scorsese', 'D. Fincher']\n",
    "]\n",
    "\n",
    "movies = dict(zip(keys, values))\n",
    "\n",
    "print(movies)"
   ]
  },
  {
   "cell_type": "markdown",
   "metadata": {},
   "source": [
    "Finalmente, podemos crear un `dataframe` a partir de ese diccionario."
   ]
  },
  {
   "cell_type": "code",
   "execution_count": 14,
   "metadata": {},
   "outputs": [
    {
     "name": "stdout",
     "output_type": "stream",
     "text": [
      "         movie  year     director\n",
      "0  Forest Gump  1994  R. Zemeckis\n",
      "1   Goodfellas  1990  M. Scorsese\n",
      "2        Se7en  1995   D. Fincher\n"
     ]
    }
   ],
   "source": [
    "import pandas as pd\n",
    "\n",
    "df_movies = pd.DataFrame(movies)\n",
    "\n",
    "print(df_movies)"
   ]
  },
  {
   "cell_type": "markdown",
   "metadata": {},
   "source": [
    "Los `zip` object nos pueden ayudar a pasar datos de una `list()` -> `zip()` -> `dict()` -> `DataFrame()`"
   ]
  },
  {
   "cell_type": "markdown",
   "metadata": {},
   "source": [
    "**Ejercicio:** Crear un `DataFrame` con las palabras en `wlist` y sus longitudes."
   ]
  },
  {
   "cell_type": "code",
   "execution_count": 15,
   "metadata": {},
   "outputs": [
    {
     "name": "stdout",
     "output_type": "stream",
     "text": [
      "           word  length\n",
      "0        Python       6\n",
      "1    creativity      10\n",
      "2      universe       8\n",
      "3     interview       9\n",
      "4         study       5\n",
      "5           job       3\n",
      "6    university      10\n",
      "7       lecture       7\n",
      "8          task       4\n",
      "9     objective       9\n",
      "10          aim       3\n",
      "11      subject       7\n",
      "12  programming      11\n",
      "13         test       4\n",
      "14     research       8\n"
     ]
    }
   ],
   "source": [
    "wlist = [['Python', 'creativity', 'universe'], \n",
    "         ['interview', 'study', 'job', 'university', 'lecture'], \n",
    "         ['task', 'objective', 'aim', 'subject', 'programming', 'test', 'research']]\n",
    "\n",
    "# Create a list of tuples with words and their lengths\n",
    "word_lengths = [\n",
    "    (item, len(item)) for items in wlist for item in items\n",
    "]\n",
    "\n",
    "# Unwrap the word_lengths\n",
    "words, lengths = zip(*word_lengths)\n",
    "\n",
    "# Create a zip object\n",
    "col_names = ['word', 'length']\n",
    "result = zip(col_names, [words, lengths])\n",
    "\n",
    "# Convert the result to a dictionary and build a DataFrame\n",
    "data_frame = pd.DataFrame(dict(result))\n",
    "print(data_frame)"
   ]
  }
 ],
 "metadata": {
  "kernelspec": {
   "display_name": "venv",
   "language": "python",
   "name": "python3"
  },
  "language_info": {
   "codemirror_mode": {
    "name": "ipython",
    "version": 3
   },
   "file_extension": ".py",
   "mimetype": "text/x-python",
   "name": "python",
   "nbconvert_exporter": "python",
   "pygments_lexer": "ipython3",
   "version": "3.12.4"
  }
 },
 "nbformat": 4,
 "nbformat_minor": 2
}
