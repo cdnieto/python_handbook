{
 "cells": [
  {
   "cell_type": "markdown",
   "metadata": {},
   "source": [
    "# Qué hacen las funciones `map`, `filter` y `reduce`?\n",
    "\n",
    "Son funciones de programación funcional que te permiten procesar colecciones de forma elegante."
   ]
  },
  {
   "cell_type": "markdown",
   "metadata": {},
   "source": [
    "**`map(funcion, iterable) -> iterable_transformado`:** Aplica una función a cada elemento de un iterable, creando un nuevo iterable con los **resultados transformados**.\n",
    "\n",
    "**`filter(funcion_booleana, iterable) -> iterable_filtrado`:** Aplica una función **booleana** a cada elemento y devuelve solo aquellos que cumplan la condición `True`.\n",
    "\n",
    "**`reduce(funcion_acumulacion) -> unico_valor`:** Aplica una función de **acumulación** a los elementos de un iterable para 'reducirlos' a un único valor."
   ]
  },
  {
   "cell_type": "markdown",
   "metadata": {},
   "source": [
    "**``map``:**"
   ]
  },
  {
   "cell_type": "code",
   "execution_count": 9,
   "metadata": {},
   "outputs": [
    {
     "name": "stdout",
     "output_type": "stream",
     "text": [
      "<map object at 0x1085ae470>\n",
      "[1, 4, 9, 16, 25]\n"
     ]
    }
   ],
   "source": [
    "nums = [1, 2, 3, 4, 5]\n",
    "\n",
    "def squared(n):\n",
    "    return n**2\n",
    "\n",
    "print(map(squared, nums))\n",
    "print(list(map(squared, nums)))"
   ]
  },
  {
   "cell_type": "code",
   "execution_count": 10,
   "metadata": {},
   "outputs": [
    {
     "data": {
      "text/plain": [
       "[1, 4, 9, 16, 25]"
      ]
     },
     "execution_count": 10,
     "metadata": {},
     "output_type": "execute_result"
    }
   ],
   "source": [
    "# podemos también usar lambda expressions\n",
    "\n",
    "list(map(lambda x: x**2, nums))"
   ]
  },
  {
   "cell_type": "code",
   "execution_count": 12,
   "metadata": {},
   "outputs": [
    {
     "data": {
      "text/plain": [
       "[10, 40, 90, 160, 250]"
      ]
     },
     "execution_count": 12,
     "metadata": {},
     "output_type": "execute_result"
    }
   ],
   "source": [
    "# consideremos múltiples iterables\n",
    "\n",
    "nums1 = [1, 2, 3, 4, 5]\n",
    "nums2 = [10, 20, 30, 40, 50]\n",
    "\n",
    "mult = map(lambda x, y: x*y, nums1, nums2)\n",
    "\n",
    "list(mult)"
   ]
  },
  {
   "cell_type": "markdown",
   "metadata": {},
   "source": [
    "**`filter`:**"
   ]
  },
  {
   "cell_type": "code",
   "execution_count": 13,
   "metadata": {},
   "outputs": [
    {
     "name": "stdout",
     "output_type": "stream",
     "text": [
      "<filter object at 0x1085918a0>\n"
     ]
    }
   ],
   "source": [
    "# filtrar números positivos\n",
    "\n",
    "def positive(x):\n",
    "    return x > 0\n",
    "\n",
    "nums = [-3, -1, 0, 1, 2, 3]\n",
    "\n",
    "fobj = filter(positive, nums)\n",
    "\n",
    "print(fobj)"
   ]
  },
  {
   "cell_type": "code",
   "execution_count": 14,
   "metadata": {},
   "outputs": [
    {
     "name": "stdout",
     "output_type": "stream",
     "text": [
      "[1, 2, 3]\n"
     ]
    }
   ],
   "source": [
    "print(list(fobj))"
   ]
  },
  {
   "cell_type": "code",
   "execution_count": 15,
   "metadata": {},
   "outputs": [
    {
     "data": {
      "text/plain": [
       "[1, 2, 3]"
      ]
     },
     "execution_count": 15,
     "metadata": {},
     "output_type": "execute_result"
    }
   ],
   "source": [
    "# lo mismo pero con lambda expressions\n",
    "\n",
    "list(filter(lambda x: x>0, nums))"
   ]
  },
  {
   "cell_type": "markdown",
   "metadata": {},
   "source": [
    "**`reduce`:**"
   ]
  },
  {
   "cell_type": "code",
   "execution_count": 17,
   "metadata": {},
   "outputs": [
    {
     "data": {
      "text/plain": [
       "2"
      ]
     },
     "execution_count": 17,
     "metadata": {},
     "output_type": "execute_result"
    }
   ],
   "source": [
    "# De esta manera importamos la función:\n",
    "from functools import reduce\n",
    "\n",
    "# Podemos reducir iterables a un solo valor, por ejemplo:\n",
    "\n",
    "# Encuentra el valor mínimo de un iterable\n",
    "nums = [8, 4, 7, 5, 2, 3]\n",
    "\n",
    "def smallest(x, y):\n",
    "    if x < y:\n",
    "        return x\n",
    "    else:\n",
    "        return y\n",
    "\n",
    "reduce(smallest, nums)"
   ]
  },
  {
   "cell_type": "code",
   "execution_count": 18,
   "metadata": {},
   "outputs": [
    {
     "data": {
      "text/plain": [
       "2"
      ]
     },
     "execution_count": 18,
     "metadata": {},
     "output_type": "execute_result"
    }
   ],
   "source": [
    "# Se puede hacer con un lambda expression:\n",
    "\n",
    "reduce(lambda x, y: x if x < y else y, nums)"
   ]
  },
  {
   "cell_type": "markdown",
   "metadata": {},
   "source": [
    "# Ejercicios"
   ]
  },
  {
   "cell_type": "code",
   "execution_count": null,
   "metadata": {},
   "outputs": [],
   "source": [
    "# https://campus.datacamp.com/courses/practicing-coding-interview-questions-in-python/functions-and-lambda-expressions?ex=10\n",
    "def my_zip(*args):\n",
    "    \n",
    "    # Retrieve Iterable lengths and find the minimal length\n",
    "    lengths = list(map(lambda x: len(x), args))\n",
    "    min_length = min(lengths)\n",
    "\n",
    "    tuple_list = []\n",
    "    for i in range(0, min_length):\n",
    "        # Map the elements in args with the same index i\n",
    "        mapping = map(lambda x: x[i], args)\n",
    "        # Convert the mapping and append it to tuple_list\n",
    "        tuple_list.append(tuple(mapping))\n",
    "\n",
    "    return tuple_list\n",
    "\n",
    "result = my_zip([1, 2, 3], ['a', 'b', 'c', 'd'], 'DataCamp')\n",
    "print(result)\n",
    "\n",
    "# Filter all the spells in spells with more than two 'a's\n",
    "spells = ['riddikulus',\n",
    " 'obliviate',\n",
    " 'sectumsempra',\n",
    " 'avada kedavra',\n",
    " 'alohomora',\n",
    " 'lumos',\n",
    " 'expelliarmus',\n",
    " 'expecto patronum']\n",
    "fspells = filter(lambda x: x.count('a') > 2, spells)\n",
    "print(list(fspells))\n",
    "\n",
    "# Convert a number sequence into a single number\n",
    "nums = [5, 6, 0, 1]\n",
    "num = reduce(lambda x, y: int(str(x)+str(y)), nums)\n",
    "print(str(nums) + ' is converted to ' + str(num))"
   ]
  }
 ],
 "metadata": {
  "kernelspec": {
   "display_name": "venv",
   "language": "python",
   "name": "python3"
  },
  "language_info": {
   "codemirror_mode": {
    "name": "ipython",
    "version": 3
   },
   "file_extension": ".py",
   "mimetype": "text/x-python",
   "name": "python",
   "nbconvert_exporter": "python",
   "pygments_lexer": "ipython3",
   "version": "3.12.4"
  }
 },
 "nbformat": 4,
 "nbformat_minor": 2
}
