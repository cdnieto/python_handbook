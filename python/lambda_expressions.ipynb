{
 "cells": [
  {
   "cell_type": "markdown",
   "metadata": {},
   "source": [
    "# Lambda expressions\n",
    "\n",
    "Son una forma de crear funciones anónimas, es decir, funciones sin nombre que se definen en una sola línea.\n",
    "\n",
    "Son pequeñas funciones que puedes usar sobre la marcha sin tener que declararlas formalmente con `def`."
   ]
  },
  {
   "cell_type": "code",
   "execution_count": 1,
   "metadata": {},
   "outputs": [
    {
     "data": {
      "text/plain": [
       "4"
      ]
     },
     "execution_count": 1,
     "metadata": {},
     "output_type": "execute_result"
    }
   ],
   "source": [
    "squared = lambda x: x**2\n",
    "\n",
    "squared(2)"
   ]
  },
  {
   "cell_type": "code",
   "execution_count": 2,
   "metadata": {},
   "outputs": [
    {
     "data": {
      "text/plain": [
       "8"
      ]
     },
     "execution_count": 2,
     "metadata": {},
     "output_type": "execute_result"
    }
   ],
   "source": [
    "# Se pueden usar más de un argumento\n",
    "power = lambda x, y: x**y\n",
    "power(2, 3)"
   ]
  },
  {
   "cell_type": "code",
   "execution_count": 3,
   "metadata": {},
   "outputs": [
    {
     "data": {
      "text/plain": [
       "64"
      ]
     },
     "execution_count": 3,
     "metadata": {},
     "output_type": "execute_result"
    }
   ],
   "source": [
    "# Las funciones que son argumentos para otras funciones se les conoce como `callbacks`\n",
    "def function_with_callback(num, callback_function):\n",
    "    return callback_function(num)\n",
    "\n",
    "function_with_callback(8, lambda x: x**2)"
   ]
  },
  {
   "cell_type": "code",
   "execution_count": 4,
   "metadata": {},
   "outputs": [
    {
     "data": {
      "text/plain": [
       "9"
      ]
     },
     "execution_count": 4,
     "metadata": {},
     "output_type": "execute_result"
    }
   ],
   "source": [
    "# Podemos llamar las funciones de esta manera\n",
    "(lambda x, y: x**y)(3, 2)"
   ]
  },
  {
   "cell_type": "code",
   "execution_count": 5,
   "metadata": {},
   "outputs": [
    {
     "data": {
      "text/plain": [
       "'odd'"
      ]
     },
     "execution_count": 5,
     "metadata": {},
     "output_type": "execute_result"
    }
   ],
   "source": [
    "# Podemos utilizar ternary operators en lambda functions\n",
    "(lambda num: 'even' if num % 2 == 0 else 'odd')(29)"
   ]
  },
  {
   "cell_type": "markdown",
   "metadata": {},
   "source": [
    "> El **ternary operator** es una forma compacta de escribir un `if`-`else` statement en una sola línea para evaluar y devolver un valor."
   ]
  },
  {
   "cell_type": "markdown",
   "metadata": {},
   "source": [
    "**Ejercicios:**"
   ]
  },
  {
   "cell_type": "code",
   "execution_count": 6,
   "metadata": {},
   "outputs": [
    {
     "name": "stdout",
     "output_type": "stream",
     "text": [
      "5.0, 5.0\n",
      "7.0710678118654755, 7.0710678118654755\n"
     ]
    }
   ],
   "source": [
    "import math\n",
    "\n",
    "# Returns a bigger of the two numbers\n",
    "def func1(x, y):\n",
    "    if x >= y:\n",
    "        return x\n",
    "\n",
    "    return y\n",
    "\n",
    "# Returns a dictionary counting characters in a string\n",
    "def func2(s):\n",
    "    d = dict()\n",
    "    for c in set(s):\n",
    "        d[c] = s.count(c)\n",
    "\n",
    "    return d\n",
    "\n",
    "# Returns a squared root of a sum of squared numbers\n",
    "def func3(*nums):\n",
    "    squared_nums = [n**2 for n in nums]\n",
    "    sum_squared_nums = sum(squared_nums)\n",
    "\n",
    "    return math.sqrt(sum_squared_nums)\n",
    "\n",
    "\n",
    "# Convert func3() to a lambda expression\n",
    "lambda3 = lambda *nums: math.sqrt(sum([n**2 for n in nums]))\n",
    "print(str(func3(3, 4)) + ', ' + str(lambda3(3, 4)))\n",
    "print(str(func3(3, 4, 5)) + ', ' + str(lambda3(3, 4, 5)))"
   ]
  },
  {
   "cell_type": "code",
   "execution_count": 7,
   "metadata": {},
   "outputs": [
    {
     "name": "stdout",
     "output_type": "stream",
     "text": [
      "['interview', 'time', 'government', 'phone', 'item', 'height', 'unit', 'truck', 'tequila', 'cell', 'leader', 'country', 'service', 'job', 'shape', 'atmosphere', 'plane', 'car', 'chicken', 'bag', 'call', 'area', 'creature', 'transaction', 'advantage']\n"
     ]
    }
   ],
   "source": [
    "words = ['car',\n",
    " 'truck',\n",
    " 'interview',\n",
    " 'tequila',\n",
    " 'time',\n",
    " 'cell',\n",
    " 'chicken',\n",
    " 'leader',\n",
    " 'government',\n",
    " 'transaction',\n",
    " 'country',\n",
    " 'bag',\n",
    " 'call',\n",
    " 'area',\n",
    " 'service',\n",
    " 'phone',\n",
    " 'advantage',\n",
    " 'job',\n",
    " 'shape',\n",
    " 'item',\n",
    " 'atmosphere',\n",
    " 'height',\n",
    " 'creature',\n",
    " 'plane',\n",
    " 'unit']\n",
    "\n",
    "# Sort words by the total amount of certain characters (a, b, c)\n",
    "words.sort(key=lambda s: sum([1 for i in s if i in ['a', 'b', 'c']]))\n",
    "print(words)"
   ]
  }
 ],
 "metadata": {
  "kernelspec": {
   "display_name": "venv",
   "language": "python",
   "name": "python3"
  },
  "language_info": {
   "codemirror_mode": {
    "name": "ipython",
    "version": 3
   },
   "file_extension": ".py",
   "mimetype": "text/x-python",
   "name": "python",
   "nbconvert_exporter": "python",
   "pygments_lexer": "ipython3",
   "version": "3.12.4"
  }
 },
 "nbformat": 4,
 "nbformat_minor": 2
}
