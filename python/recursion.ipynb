{
 "cells": [
  {
   "cell_type": "markdown",
   "metadata": {},
   "source": [
    "# Recursion\n",
    "\n",
    "**Definición:** Es el proceso de definir un problema en función de él mismo.\n",
    "\n",
    "Es decir, **recursión** es un proceso en donde una función se llama a ella misma en una subrutina."
   ]
  },
  {
   "cell_type": "code",
   "execution_count": 1,
   "metadata": {},
   "outputs": [],
   "source": [
    "# Ejemplo: factorial\n",
    "\n",
    "# podemos hacer un factorial iterativo:\n",
    "def fact_iter(n):\n",
    "    result = 1\n",
    "    for num in range(1, n+1):\n",
    "        result = num * result\n",
    "\n",
    "    return result"
   ]
  },
  {
   "cell_type": "code",
   "execution_count": 3,
   "metadata": {},
   "outputs": [
    {
     "name": "stdout",
     "output_type": "stream",
     "text": [
      "531 ns ± 70 ns per loop (mean ± std. dev. of 7 runs, 1,000,000 loops each)\n"
     ]
    }
   ],
   "source": [
    "%%timeit\n",
    "fact_iter(20)"
   ]
  },
  {
   "cell_type": "code",
   "execution_count": 8,
   "metadata": {},
   "outputs": [],
   "source": [
    "# podemos escribirlo recursivamente\n",
    "def fact_rec(n):\n",
    "    return n * fact_rec(n-1)"
   ]
  },
  {
   "cell_type": "code",
   "execution_count": null,
   "metadata": {},
   "outputs": [],
   "source": [
    "fact_rec(20) ## Da RecursionError!!"
   ]
  },
  {
   "cell_type": "code",
   "execution_count": 10,
   "metadata": {},
   "outputs": [],
   "source": [
    "def fact_rec(n):\n",
    "    if n == 1:\n",
    "        return 1\n",
    "    return n * fact_rec(n-1)"
   ]
  },
  {
   "cell_type": "code",
   "execution_count": 12,
   "metadata": {},
   "outputs": [
    {
     "data": {
      "text/plain": [
       "24"
      ]
     },
     "execution_count": 12,
     "metadata": {},
     "output_type": "execute_result"
    }
   ],
   "source": [
    "fact_rec(4)"
   ]
  },
  {
   "cell_type": "code",
   "execution_count": 13,
   "metadata": {},
   "outputs": [
    {
     "name": "stdout",
     "output_type": "stream",
     "text": [
      "864 ns ± 61.5 ns per loop (mean ± std. dev. of 7 runs, 1,000,000 loops each)\n"
     ]
    }
   ],
   "source": [
    "%%timeit\n",
    "fact_rec(20)"
   ]
  },
  {
   "cell_type": "markdown",
   "metadata": {},
   "source": [
    "**En resumen:**\n",
    "\n",
    "Una función **recursiva** tiene dos componentes principales:\n",
    "\n",
    "* Un llamado recursivo a una versión anterior de sí misma.\n",
    "\n",
    "* Un caso base que previene un llamado infinito.\n",
    "\n",
    "\n",
    "> Hay que tener cuidado, muchos llamados de recursión pueden incrementar con rapidez y se pueden tener problemas de memoria"
   ]
  },
  {
   "cell_type": "code",
   "execution_count": null,
   "metadata": {},
   "outputs": [],
   "source": [
    "# Recursión fibonacci\n",
    "def fib(n):\n",
    "\n",
    "  if n < 2:\n",
    "    return (n, 1)\n",
    "\n",
    "  fib1 = fib(n-1)\n",
    "  fib2 = fib(n-2)\n",
    "\n",
    "  return (fib1[0] + fib2[0], fib1[1] + fib2[1] + 1)"
   ]
  },
  {
   "cell_type": "markdown",
   "metadata": {},
   "source": [
    "Fórmula para calcular la media de manera recursiva: $\\bar{x} = \\frac{x_i + (n-1)\\bar{x}}{n}$"
   ]
  },
  {
   "cell_type": "code",
   "execution_count": null,
   "metadata": {},
   "outputs": [],
   "source": [
    "# Cálculo recursivo de la media\n",
    "def average(nums):\n",
    "  \n",
    "    # Base case\n",
    "    if len(nums) == 1:  \n",
    "        return nums[0]\n",
    "    \n",
    "    # Recursive call\n",
    "    n = len(nums)\n",
    "    return (nums[-1] + (n - 1) * average(nums[:-1])) / n\n",
    "\n",
    "# Testing the function\n",
    "print(average([1, 2, 3, 4, 5]))"
   ]
  },
  {
   "cell_type": "code",
   "execution_count": 15,
   "metadata": {},
   "outputs": [
    {
     "name": "stdout",
     "output_type": "stream",
     "text": [
      "approx = 3.143588659585789, theor = 3.141592653589793\n"
     ]
    }
   ],
   "source": [
    "# Calcular pi de manera recursiva\n",
    "# * Buscar aproximación de pi por medio de una Serie\n",
    "import math\n",
    "\n",
    "get_elmnt = lambda k: ((-1)**k)/(2*k+1)\n",
    "\n",
    "def calc_pi(n):\n",
    "    curr_elmnt = get_elmnt(n)\n",
    "    \n",
    "    # Define the base case\n",
    "    if n == 0:\n",
    "    \treturn 4 \n",
    "      \n",
    "    # Make the recursive call\n",
    "    return 4 * curr_elmnt + calc_pi(n-1)\n",
    "  \n",
    "# Compare the approximated Pi value to the theoretical one\n",
    "print(\"approx = {}, theor = {}\".format(calc_pi(500), math.pi))"
   ]
  },
  {
   "cell_type": "code",
   "execution_count": null,
   "metadata": {},
   "outputs": [],
   "source": []
  }
 ],
 "metadata": {
  "kernelspec": {
   "display_name": "venv",
   "language": "python",
   "name": "python3"
  },
  "language_info": {
   "codemirror_mode": {
    "name": "ipython",
    "version": 3
   },
   "file_extension": ".py",
   "mimetype": "text/x-python",
   "name": "python",
   "nbconvert_exporter": "python",
   "pygments_lexer": "ipython3",
   "version": "3.12.4"
  }
 },
 "nbformat": 4,
 "nbformat_minor": 2
}
